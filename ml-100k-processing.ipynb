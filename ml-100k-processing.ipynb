{
 "cells": [
  {
   "cell_type": "markdown",
   "metadata": {},
   "source": [
    "# Movie lens 100k Data Set - Data Analysis and Processing\n",
    "**This data set contains:**\n",
    "* 100,000 ratings (1-5) from 943 users on 1682 movies. \n",
    "* Each user has rated at least 20 movies. \n",
    "* Simple demographic info for the users (age, gender, occupation, zip)\n",
    "\n",
    "**Context:**\n",
    "* Collected through the MovieLens web site (movielens.umn.edu) during the seven-month period from September 19th, 1997 through April 22nd, 1998."
   ]
  },
  {
   "cell_type": "markdown",
   "metadata": {},
   "source": [
    "## Files\n",
    "**u.data**\n",
    "* The full u data set, 100000 ratings by 943 users on 1682 items.\n",
    "* Each user has rated at least 20 movies.  \n",
    "* Users and items are numbered consecutively from 1.\n",
    "* The data is randomly ordered.\n",
    "* user id | movie id | rating | timestamp.\n",
    "\n",
    "**u.item**\n",
    "* Information about the items (movies).\n",
    "* movie id | movie title | release date | video release date |\n",
    "    IMDb URL | unknown | Action | Adventure | Animation |\n",
    "    Children's | Comedy | Crime | Documentary | Drama | Fantasy |\n",
    "    Film-Noir | Horror | Musical | Mystery | Romance | Sci-Fi |\n",
    "    thriller | War | Western |\n",
    "* The last 19 fields are the genres, a 1 indicates the movie is of that genre, a 0 indicates it is not; movies can be in several genres at once. The movie ids are the ones used in the u.data data set.\n",
    "\n",
    "**u.genre**\n",
    "* Numbered list of genres.\n",
    "\n",
    "**u.user** \n",
    "* Demographic information about the users\n",
    "              separated list of\n",
    "              user id | age | gender | occupation | zip code\n",
    "              The user ids are the ones used in the u.data data set.\n",
    "\n",
    "There are also pre-split 5-fold validation (u1/u2/u3/u4/u5) sets and a disjoint set of testing data (ua / ub)."
   ]
  },
  {
   "cell_type": "markdown",
   "metadata": {},
   "source": [
    "## Data Analysis"
   ]
  },
  {
   "cell_type": "code",
   "execution_count": 1,
   "metadata": {},
   "outputs": [],
   "source": [
    "import numpy as np\n",
    "import pandas as pd\n",
    "\n",
    "import matplotlib.pyplot as plt \n",
    "import seaborn as sns"
   ]
  },
  {
   "cell_type": "markdown",
   "metadata": {},
   "source": [
    "### Read in data"
   ]
  },
  {
   "cell_type": "code",
   "execution_count": 102,
   "metadata": {},
   "outputs": [],
   "source": [
    "rating_df= pd.read_csv(\"data/u.data\", sep=\"\\t\", names=[\"user_id\", \"movie_id\", \"rating\", \"timestamp\"])\n",
    "\n",
    "item_df = pd.read_csv(\"data/u.item\", sep=\"|\",encoding=\"latin-1\", \n",
    "                      names=[\"movie_id\", \"movie_title\", \"release_date\", \"video_release_date\",\n",
    "                             \"imbd_url\", \"unknown\", \"action\", \"adventure\", \"animation\",\n",
    "                             \"childrens\", \"comedy\", \"crime\", \"documentary\", \"drama\", \"fantasy\", \n",
    "                             \"film_noir\", \"horror\", \"musical\", \"mystery\", \"romance\", \n",
    "                             \"sci-fi\", \"thriller\", \"war\", \"western\"])\n",
    "\n",
    "user_df = pd.read_csv(\"data/u.user\", sep=\"|\", encoding=\"latin-1\", names=[\"user_id\", \"age\", \"gender\",\n",
    "                                                                            \"occupation\", \"zip_code\"])"
   ]
  },
  {
   "cell_type": "code",
   "execution_count": 1,
   "metadata": {},
   "outputs": [
    {
     "name": "stdout",
     "output_type": "stream",
     "text": [
      "Ratings Matrix\n"
     ]
    },
    {
     "ename": "NameError",
     "evalue": "name 'rating_df' is not defined",
     "output_type": "error",
     "traceback": [
      "\u001b[1;31m---------------------------------------------------------------------------\u001b[0m",
      "\u001b[1;31mNameError\u001b[0m                                 Traceback (most recent call last)",
      "\u001b[1;32mc:\\Users\\Elizabeth\\Documents\\llm-recsys-data-processing\\ml_100k\\ml-100k-processing.ipynb Cell 7\u001b[0m line \u001b[0;36m2\n\u001b[0;32m      <a href='vscode-notebook-cell:/c%3A/Users/Elizabeth/Documents/llm-recsys-data-processing/ml_100k/ml-100k-processing.ipynb#W6sZmlsZQ%3D%3D?line=0'>1</a>\u001b[0m \u001b[39mprint\u001b[39m(\u001b[39m\"\u001b[39m\u001b[39mRatings Matrix\u001b[39m\u001b[39m\"\u001b[39m)\n\u001b[1;32m----> <a href='vscode-notebook-cell:/c%3A/Users/Elizabeth/Documents/llm-recsys-data-processing/ml_100k/ml-100k-processing.ipynb#W6sZmlsZQ%3D%3D?line=1'>2</a>\u001b[0m \u001b[39mprint\u001b[39m(rating_df\u001b[39m.\u001b[39mhead(), \u001b[39m'\u001b[39m\u001b[39m\\n\u001b[39;00m\u001b[39m'\u001b[39m)\n\u001b[0;32m      <a href='vscode-notebook-cell:/c%3A/Users/Elizabeth/Documents/llm-recsys-data-processing/ml_100k/ml-100k-processing.ipynb#W6sZmlsZQ%3D%3D?line=3'>4</a>\u001b[0m \u001b[39mprint\u001b[39m(\u001b[39m'\u001b[39m\u001b[39mMovie Data\u001b[39m\u001b[39m'\u001b[39m)\n\u001b[0;32m      <a href='vscode-notebook-cell:/c%3A/Users/Elizabeth/Documents/llm-recsys-data-processing/ml_100k/ml-100k-processing.ipynb#W6sZmlsZQ%3D%3D?line=4'>5</a>\u001b[0m \u001b[39mprint\u001b[39m(item_df[[\u001b[39m\"\u001b[39m\u001b[39mmovie_id\u001b[39m\u001b[39m\"\u001b[39m, \u001b[39m\"\u001b[39m\u001b[39mmovie_title\u001b[39m\u001b[39m\"\u001b[39m, \u001b[39m\"\u001b[39m\u001b[39mrelease_date\u001b[39m\u001b[39m\"\u001b[39m, \u001b[39m\"\u001b[39m\u001b[39mvideo_release_date\u001b[39m\u001b[39m\"\u001b[39m, \u001b[39m\"\u001b[39m\u001b[39mimbd_url\u001b[39m\u001b[39m\"\u001b[39m]][\u001b[39m0\u001b[39m:\u001b[39m5\u001b[39m], \u001b[39m'\u001b[39m\u001b[39m\\n\u001b[39;00m\u001b[39m'\u001b[39m)\n",
      "\u001b[1;31mNameError\u001b[0m: name 'rating_df' is not defined"
     ]
    }
   ],
   "source": [
    "print(\"Ratings Matrix\")\n",
    "print(rating_df.head(), '\\n')\n",
    "\n",
    "print('Movie Data')\n",
    "print(item_df[[\"movie_id\", \"movie_title\", \"release_date\", \"video_release_date\", \"imbd_url\"]][0:5], '\\n')\n",
    "\n",
    "print('User Data')\n",
    "print(user_df.head())\n"
   ]
  },
  {
   "cell_type": "markdown",
   "metadata": {},
   "source": [
    "### Summary Statistics\n",
    "* Number of movies / users.\n",
    "* Summary statistics of movie each genre, release dates\n",
    "* Summary statistics for user age, gender, occupation"
   ]
  },
  {
   "cell_type": "markdown",
   "metadata": {},
   "source": [
    "#### Movie Statistics \n",
    "* Number of movies\n",
    "* Number of each genre (table and graph)\n",
    "* Top 3 genres\n",
    "* Which genres occur together the most\n",
    "* Distribution of release dates "
   ]
  },
  {
   "cell_type": "code",
   "execution_count": 4,
   "metadata": {},
   "outputs": [
    {
     "name": "stdout",
     "output_type": "stream",
     "text": [
      "This dataset surveys: 1682 movies.\n"
     ]
    }
   ],
   "source": [
    "# Number of movies\n",
    "print(\"This dataset surveys:\", len(item_df), \"movies.\")"
   ]
  },
  {
   "cell_type": "code",
   "execution_count": 5,
   "metadata": {},
   "outputs": [
    {
     "name": "stdout",
     "output_type": "stream",
     "text": [
      "unknown          2\n",
      "action         251\n",
      "adventure      135\n",
      "animation       42\n",
      "childrens      122\n",
      "comedy         505\n",
      "crime          109\n",
      "documentary     50\n",
      "drama          725\n",
      "fantasy         22\n",
      "film_noir       24\n",
      "horror          92\n",
      "musical         56\n",
      "mystery         61\n",
      "romance        247\n",
      "sci-fi         101\n",
      "thriller       251\n",
      "war             71\n",
      "western         27\n",
      "dtype: int64\n"
     ]
    }
   ],
   "source": [
    "# Number of each genre\n",
    "num_genres = item_df[[\"unknown\", \"action\", \"adventure\", \"animation\",\n",
    "                             \"childrens\", \"comedy\", \"crime\", \"documentary\", \"drama\", \"fantasy\", \n",
    "                             \"film_noir\", \"horror\", \"musical\", \"mystery\", \"romance\", \n",
    "                             \"sci-fi\", \"thriller\", \"war\", \"western\"]].sum()\n",
    "\n",
    "print(num_genres)"
   ]
  },
  {
   "cell_type": "code",
   "execution_count": 6,
   "metadata": {},
   "outputs": [
    {
     "name": "stderr",
     "output_type": "stream",
     "text": [
      "c:\\Users\\Elizabeth\\anaconda3\\envs\\data-processing\\Lib\\site-packages\\seaborn\\_oldcore.py:1498: FutureWarning: is_categorical_dtype is deprecated and will be removed in a future version. Use isinstance(dtype, CategoricalDtype) instead\n",
      "  if pd.api.types.is_categorical_dtype(vector):\n",
      "c:\\Users\\Elizabeth\\anaconda3\\envs\\data-processing\\Lib\\site-packages\\seaborn\\_oldcore.py:1498: FutureWarning: is_categorical_dtype is deprecated and will be removed in a future version. Use isinstance(dtype, CategoricalDtype) instead\n",
      "  if pd.api.types.is_categorical_dtype(vector):\n",
      "c:\\Users\\Elizabeth\\anaconda3\\envs\\data-processing\\Lib\\site-packages\\seaborn\\_oldcore.py:1498: FutureWarning: is_categorical_dtype is deprecated and will be removed in a future version. Use isinstance(dtype, CategoricalDtype) instead\n",
      "  if pd.api.types.is_categorical_dtype(vector):\n"
     ]
    },
    {
     "data": {
      "text/plain": [
       "<Axes: >"
      ]
     },
     "execution_count": 6,
     "metadata": {},
     "output_type": "execute_result"
    },
    {
     "data": {
      "image/png": "[encoded data removed]",
      "text/plain": [
       "<Figure size 640x480 with 1 Axes>"
      ]
     },
     "metadata": {},
     "output_type": "display_data"
    }
   ],
   "source": [
    "sns.barplot(y=num_genres.index, x=num_genres, orient='h')"
   ]
  },
  {
   "cell_type": "code",
   "execution_count": 7,
   "metadata": {},
   "outputs": [
    {
     "name": "stdout",
     "output_type": "stream",
     "text": [
      "The top three genres are: "
     ]
    },
    {
     "data": {
      "text/plain": [
       "drama     725\n",
       "comedy    505\n",
       "action    251\n",
       "dtype: int64"
      ]
     },
     "execution_count": 7,
     "metadata": {},
     "output_type": "execute_result"
    }
   ],
   "source": [
    "# Top-3 genres\n",
    "print(\"The top three genres are: \", end='')\n",
    "num_genres.nlargest(3)"
   ]
  },
  {
   "cell_type": "code",
   "execution_count": 68,
   "metadata": {},
   "outputs": [
    {
     "name": "stdout",
     "output_type": "stream",
     "text": [
      "unknown with action for 0\n",
      "action with thriller for 84\n",
      "adventure with action for 75\n",
      "animation with childrens for 33\n",
      "childrens with adventure for 42\n",
      "comedy with romance for 97\n",
      "crime with drama for 48\n",
      "documentary with drama for 3\n",
      "drama with romance for 99\n",
      "fantasy with childrens for 16\n",
      "film_noir with thriller for 14\n",
      "horror with thriller for 19\n",
      "musical with comedy for 22\n",
      "mystery with thriller for 32\n",
      "romance with drama for 99\n",
      "sci-fi with action for 54\n",
      "thriller with action for 84\n",
      "war with drama for 38\n",
      "western with action for 8\n"
     ]
    }
   ],
   "source": [
    "# Which movies occur together the most?\n",
    "# Code\n",
    "    # filter for each movie genre,\n",
    "    # For that genre, take the most co-occuring genre\n",
    "\n",
    "from operator import index\n",
    "\n",
    "\n",
    "genres =[\"unknown\", \"action\", \"adventure\", \"animation\", \"childrens\", \"comedy\",\n",
    "         \"crime\", \"documentary\", \"drama\", \"fantasy\", \n",
    "         \"film_noir\", \"horror\", \"musical\", \"mystery\", \"romance\", \n",
    "         \"sci-fi\", \"thriller\", \"war\", \"western\"]\n",
    "\n",
    "genres_df = item_df[genres]\n",
    "\n",
    "for genre in genres:\n",
    "    genre_df = genres_df[genres_df[genre] == 1].copy()\n",
    "    most_coocurring = genre_df.sum().nlargest(2)\n",
    "    co_genre = list(most_coocurring.index.values)[1]\n",
    "    print(genre, \"with\", co_genre, \"for\", most_coocurring.iloc[1])\n"
   ]
  },
  {
   "cell_type": "code",
   "execution_count": 8,
   "metadata": {},
   "outputs": [
    {
     "name": "stderr",
     "output_type": "stream",
     "text": [
      "c:\\Users\\Elizabeth\\anaconda3\\envs\\data-processing\\Lib\\site-packages\\seaborn\\_oldcore.py:1498: FutureWarning: is_categorical_dtype is deprecated and will be removed in a future version. Use isinstance(dtype, CategoricalDtype) instead\n",
      "  if pd.api.types.is_categorical_dtype(vector):\n",
      "c:\\Users\\Elizabeth\\anaconda3\\envs\\data-processing\\Lib\\site-packages\\seaborn\\_oldcore.py:1119: FutureWarning: use_inf_as_na option is deprecated and will be removed in a future version. Convert inf values to NaN before operating instead.\n",
      "  with pd.option_context('mode.use_inf_as_na', True):\n",
      "c:\\Users\\Elizabeth\\anaconda3\\envs\\data-processing\\Lib\\site-packages\\seaborn\\axisgrid.py:118: UserWarning: The figure layout has changed to tight\n",
      "  self._figure.tight_layout(*args, **kwargs)\n"
     ]
    },
    {
     "data": {
      "text/plain": [
       "<seaborn.axisgrid.FacetGrid at 0x17a34b48c90>"
      ]
     },
     "execution_count": 8,
     "metadata": {},
     "output_type": "execute_result"
    },
    {
     "data": {
      "image/png": "[encoded data removed]",
      "text/plain": [
       "<Figure size 500x500 with 1 Axes>"
      ]
     },
     "metadata": {},
     "output_type": "display_data"
    }
   ],
   "source": [
    "# Graphing Movie release year distribution\n",
    "year_released = (item_df[\"release_date\"].str.split(\"-\")).dropna()\n",
    "year_released = year_released.apply(lambda x: x[2]).apply(int)\n",
    "\n",
    "sns.displot(year_released)\n"
   ]
  },
  {
   "cell_type": "code",
   "execution_count": 9,
   "metadata": {},
   "outputs": [
    {
     "data": {
      "text/plain": [
       "release_date\n",
       "1996    355\n",
       "1997    286\n",
       "1995    219\n",
       "1994    214\n",
       "Name: count, dtype: int64"
      ]
     },
     "execution_count": 9,
     "metadata": {},
     "output_type": "execute_result"
    }
   ],
   "source": [
    "# Top 4 years movies in this data set were released.\n",
    "year_released.value_counts().nlargest(4)"
   ]
  },
  {
   "cell_type": "code",
   "execution_count": 10,
   "metadata": {},
   "outputs": [
    {
     "name": "stderr",
     "output_type": "stream",
     "text": [
      "c:\\Users\\Elizabeth\\anaconda3\\envs\\data-processing\\Lib\\site-packages\\seaborn\\_oldcore.py:1498: FutureWarning: is_categorical_dtype is deprecated and will be removed in a future version. Use isinstance(dtype, CategoricalDtype) instead\n",
      "  if pd.api.types.is_categorical_dtype(vector):\n",
      "c:\\Users\\Elizabeth\\anaconda3\\envs\\data-processing\\Lib\\site-packages\\seaborn\\_oldcore.py:1498: FutureWarning: is_categorical_dtype is deprecated and will be removed in a future version. Use isinstance(dtype, CategoricalDtype) instead\n",
      "  if pd.api.types.is_categorical_dtype(vector):\n",
      "c:\\Users\\Elizabeth\\anaconda3\\envs\\data-processing\\Lib\\site-packages\\seaborn\\_oldcore.py:1498: FutureWarning: is_categorical_dtype is deprecated and will be removed in a future version. Use isinstance(dtype, CategoricalDtype) instead\n",
      "  if pd.api.types.is_categorical_dtype(vector):\n"
     ]
    },
    {
     "data": {
      "text/plain": [
       "<Axes: xlabel='count', ylabel='release_date'>"
      ]
     },
     "execution_count": 10,
     "metadata": {},
     "output_type": "execute_result"
    },
    {
     "data": {
      "image/png": "[encoded data removed]",
      "text/plain": [
       "<Figure size 640x480 with 1 Axes>"
      ]
     },
     "metadata": {},
     "output_type": "display_data"
    }
   ],
   "source": [
    "# Graphing Movie release month distribution\n",
    "month_released = (item_df[\"release_date\"].str.split(\"-\")).dropna()\n",
    "\n",
    "month_released = month_released.apply(lambda x: x[1])\n",
    "month_released = month_released.value_counts()\n",
    "\n",
    "sns.barplot(y=month_released.index, x=month_released, orient='h')\n"
   ]
  },
  {
   "cell_type": "markdown",
   "metadata": {},
   "source": [
    "#### User Stats\n",
    "* Number of users\n",
    "* Average age of a user\n",
    "* Percentage of gender\n",
    "* Mode occupation"
   ]
  },
  {
   "cell_type": "code",
   "execution_count": 191,
   "metadata": {},
   "outputs": [
    {
     "name": "stdout",
     "output_type": "stream",
     "text": [
      "Number of users: 943\n",
      "Average age: 34.05. Median Age: 31.0\n",
      "Male: 71.05%. Female: 28.95%\n",
      "There three most common jobs are\n",
      "----------\n",
      "occupation\n",
      "student     196\n",
      "other       105\n",
      "educator     95\n",
      "Name: count, dtype: int64\n"
     ]
    },
    {
     "data": {
      "image/png": "[encoded data removed]",
      "text/plain": [
       "<Figure size 640x480 with 1 Axes>"
      ]
     },
     "metadata": {},
     "output_type": "display_data"
    }
   ],
   "source": [
    "# Number of users\n",
    "print(\"Number of users:\", len(user_df))\n",
    "\n",
    "# Average & mediamn age of a user\n",
    "print(f\"Average age: {user_df['age'].mean():.2f}. Median Age: {user_df['age'].median()}\")\n",
    "ax = user_df[\"age\"].plot.hist(bins=12, alpha=0.5)\n",
    "\n",
    "# Gender make up\n",
    "print(f\"Male: {len(user_df[user_df['gender'] == 'M']) / len(user_df)*100:.2f}%. Female: {len(user_df[user_df['gender'] == 'F']) / len(user_df)*100:.2f}%\")\n",
    "\n",
    "# Top 5 most common occupations.\n",
    "job_df = user_df[\"occupation\"].value_counts().nlargest(3)\n",
    "print(\"There three most common jobs are\\n\",\"----------\\n\", job_df, sep=\"\")"
   ]
  },
  {
   "cell_type": "markdown",
   "metadata": {},
   "source": [
    "### Cross-Connection Analysis\n",
    "* Top/lowest-k rated movies: overall, genre, gender, occupation, age."
   ]
  },
  {
   "cell_type": "code",
   "execution_count": 110,
   "metadata": {},
   "outputs": [],
   "source": [
    "# Combine data\n",
    "\n",
    "df = item_df.merge(rating_df, on='movie_id', how='inner')\n",
    "df = df.merge(user_df, on='user_id')"
   ]
  },
  {
   "cell_type": "code",
   "execution_count": 206,
   "metadata": {},
   "outputs": [],
   "source": [
    "# Count number of reviews / movie\n",
    "grouped = df[[\"movie_title\", \"rating\"]].groupby(\"movie_title\")[\"rating\"]\n",
    "ranking = grouped.count().to_frame()\n",
    "ranking = ranking.rename(columns ={\"rating\": \"num_reviews\"})\n",
    "ranking_df = item_df.copy().merge(ranking, on=\"movie_title\")\n",
    "\n",
    "# Mean rating\n",
    "rating =grouped.mean().to_frame()\n",
    "ranking_df = ranking_df.merge(rating, on=\"movie_title\")"
   ]
  },
  {
   "cell_type": "code",
   "execution_count": 185,
   "metadata": {},
   "outputs": [
    {
     "name": "stdout",
     "output_type": "stream",
     "text": [
      "top 5 most-ranked\n",
      "                   movie_title  num_reviews    rating\n",
      "49            Star Wars (1977)          583  4.358491\n",
      "258             Contact (1997)          509  3.803536\n",
      "99                Fargo (1996)          508  4.155512\n",
      "180  Return of the Jedi (1983)          507  4.007890\n",
      "294           Liar Liar (1997)          485  3.156701\n",
      "\n",
      "top 5 in ratings w/ at least 10 reviews\n",
      "                                           movie_title  num_reviews    rating\n",
      "411                              Close Shave, A (1995)          112  4.491071\n",
      "321                            Schindler's List (1993)          298  4.466443\n",
      "168                         Wrong Trousers, The (1993)          118  4.466102\n",
      "486                                  Casablanca (1942)          243  4.456790\n",
      "113  Wallace & Gromit: The Best of Aardman Animatio...           67  4.447761\n",
      "\n",
      "top 5 lowest in ratings w/ at least 10 reviews\n",
      "                                     movie_title  num_reviews    rating\n",
      "427   Children of the Corn: The Gathering (1996)           19  1.315789\n",
      "672                            Body Parts (1991)           13  1.615385\n",
      "443         Amityville II: The Possession (1982)           14  1.642857\n",
      "1088                         Bloodsport 2 (1995)           10  1.700000\n",
      "760    Lawnmower Man 2: Beyond Cyberspace (1996)           21  1.714286\n",
      "\n"
     ]
    }
   ],
   "source": [
    "# top-5 most-reviewed movies\n",
    "print(\"top 5 most-ranked\\n\", ranking_df[[\"movie_title\", \"num_reviews\", \"rating\"]].nlargest(5, columns=[\"num_reviews\"]), \"\\n\",sep=\"\")\n",
    "\n",
    "# top-5 rating\n",
    "mask1 = ranking_df[\"num_reviews\"] >= 10\n",
    "print(\"top 5 in ratings w/ at least 10 reviews\\n\", ranking_df[[\"movie_title\", \"num_reviews\", \"rating\"]].loc[mask1].nlargest(5, columns=[\"rating\"]), \"\\n\", sep=\"\")\n",
    "\n",
    "# least-5 in rating\n",
    "mask1 = ranking_df[\"num_reviews\"] >= 10\n",
    "print(\"top 5 lowest in ratings w/ at least 10 reviews\\n\", ranking_df[[\"movie_title\", \"num_reviews\", \"rating\"]].loc[mask1].nsmallest(5, columns=[\"rating\"]), \"\\n\", sep=\"\")"
   ]
  },
  {
   "cell_type": "code",
   "execution_count": 188,
   "metadata": {},
   "outputs": [
    {
     "name": "stdout",
     "output_type": "stream",
     "text": [
      "Top 5 per genre (w/ at least 10 reviews)\n",
      "unknown\n",
      "Empty DataFrame\n",
      "Columns: [movie_title, num_reviews, rating]\n",
      "Index: []\n",
      "\n",
      "action\n",
      "                         movie_title  num_reviews    rating\n",
      "49                  Star Wars (1977)          583  4.358491\n",
      "126            Godfather, The (1972)          413  4.283293\n",
      "173   Raiders of the Lost Ark (1981)          420  4.252381\n",
      "316                   Titanic (1997)          350  4.245714\n",
      "171  Empire Strikes Back, The (1980)          367  4.204360\n",
      "\n",
      "adventure\n",
      "                         movie_title  num_reviews    rating\n",
      "49                  Star Wars (1977)          583  4.358491\n",
      "173   Raiders of the Lost Ark (1981)          420  4.252381\n",
      "513        Lawrence of Arabia (1962)          173  4.231214\n",
      "171  Empire Strikes Back, The (1980)          367  4.204360\n",
      "501        African Queen, The (1951)          152  4.184211\n",
      "\n",
      "animation\n",
      "                                           movie_title  num_reviews    rating\n",
      "411                              Close Shave, A (1995)          112  4.491071\n",
      "168                         Wrong Trousers, The (1993)          118  4.466102\n",
      "113  Wallace & Gromit: The Best of Aardman Animatio...           67  4.447761\n",
      "188                            Grand Day Out, A (1992)           66  4.106061\n",
      "0                                     Toy Story (1995)          452  3.878319\n",
      "\n",
      "childrens\n",
      "                           movie_title  num_reviews    rating\n",
      "131           Wizard of Oz, The (1939)          246  4.077236\n",
      "7                          Babe (1995)          219  3.995434\n",
      "0                     Toy Story (1995)          452  3.878319\n",
      "426  E.T. the Extra-Terrestrial (1982)          300  3.833333\n",
      "94                      Aladdin (1992)          219  3.812785\n",
      "\n",
      "comedy\n",
      "                    movie_title  num_reviews    rating\n",
      "411       Close Shave, A (1995)          112  4.491071\n",
      "168  Wrong Trousers, The (1993)          118  4.466102\n",
      "483   North by Northwest (1959)          179  4.284916\n",
      "251      Shall We Dance? (1996)           46  4.260870\n",
      "319   As Good As It Gets (1997)          112  4.196429\n",
      "\n",
      "crime\n",
      "                        movie_title  num_reviews    rating\n",
      "11       Usual Suspects, The (1995)          267  4.385768\n",
      "126           Godfather, The (1972)          413  4.283293\n",
      "186  Godfather: Part II, The (1974)          209  4.186603\n",
      "303        L.A. Confidential (1997)          297  4.161616\n",
      "99                     Fargo (1996)          508  4.155512\n",
      "\n",
      "documentary\n",
      "                                            movie_title  num_reviews    rating\n",
      "47                                   Hoop Dreams (1994)          117  4.094017\n",
      "323   Paradise Lost: The Child Murders at Robin Hood...           20  4.050000\n",
      "1143                          When We Were Kings (1996)           44  4.045455\n",
      "702   Wonderful, Horrible Life of Leni Riefenstahl, ...           10  4.000000\n",
      "813     Thirty-Two Short Films About Glenn Gould (1993)           18  3.944444\n",
      "\n",
      "drama\n",
      "                          movie_title  num_reviews    rating\n",
      "321           Schindler's List (1993)          298  4.466443\n",
      "486                 Casablanca (1942)          243  4.456790\n",
      "63   Shawshank Redemption, The (1994)          283  4.445230\n",
      "177               12 Angry Men (1957)          125  4.344000\n",
      "133               Citizen Kane (1941)          198  4.292929\n",
      "\n",
      "fantasy\n",
      "                             movie_title  num_reviews    rating\n",
      "426    E.T. the Extra-Terrestrial (1982)          300  3.833333\n",
      "560            Heavenly Creatures (1994)           70  3.671429\n",
      "140  20,000 Leagues Under the Sea (1954)           72  3.500000\n",
      "757                       Jumanji (1995)           96  3.312500\n",
      "71                      Mask, The (1994)          129  3.193798\n",
      "\n",
      "film_noir\n",
      "                          movie_title  num_reviews    rating\n",
      "660  Manchurian Candidate, The (1962)          131  4.259542\n",
      "487        Maltese Falcon, The (1941)          138  4.210145\n",
      "491               Sunset Blvd. (1950)           65  4.200000\n",
      "303          L.A. Confidential (1997)          297  4.161616\n",
      "88                Blade Runner (1982)          275  4.138182\n",
      "\n",
      "horror\n",
      "                   movie_title  num_reviews    rating\n",
      "184              Psycho (1960)          239  4.100418\n",
      "182               Alien (1979)          291  4.034364\n",
      "207  Young Frankenstein (1974)          200  3.945000\n",
      "855           Braindead (1992)           14  3.857143\n",
      "199        Shining, The (1980)          206  3.825243\n",
      "\n",
      "musical\n",
      "                     movie_title  num_reviews    rating\n",
      "131     Wizard of Oz, The (1939)          246  4.077236\n",
      "1205              Top Hat (1935)           21  4.047619\n",
      "706   Singin' in the Rain (1952)          137  3.992701\n",
      "208    This Is Spinal Tap (1984)          191  3.905759\n",
      "837     Gay Divorcee, The (1934)           15  3.866667\n",
      "\n",
      "mystery\n",
      "                    movie_title  num_reviews    rating\n",
      "606          Rear Window (1954)          209  4.387560\n",
      "515       Third Man, The (1949)           72  4.333333\n",
      "482              Vertigo (1958)          179  4.251397\n",
      "487  Maltese Falcon, The (1941)          138  4.210145\n",
      "190              Amadeus (1984)          276  4.163043\n",
      "\n",
      "romance\n",
      "                         movie_title  num_reviews    rating\n",
      "486                Casablanca (1942)          243  4.456790\n",
      "49                  Star Wars (1977)          583  4.358491\n",
      "316                   Titanic (1997)          350  4.245714\n",
      "171  Empire Strikes Back, The (1980)          367  4.204360\n",
      "968    Affair to Remember, An (1957)           26  4.192308\n",
      "\n",
      "sci-fi\n",
      "                                           movie_title  num_reviews    rating\n",
      "49                                    Star Wars (1977)          583  4.358491\n",
      "477  Dr. Strangelove or: How I Learned to Stop Worr...          194  4.252577\n",
      "171                    Empire Strikes Back, The (1980)          367  4.204360\n",
      "88                                 Blade Runner (1982)          275  4.138182\n",
      "182                                       Alien (1979)          291  4.034364\n",
      "\n",
      "thriller\n",
      "                                 movie_title  num_reviews    rating\n",
      "411                    Close Shave, A (1995)          112  4.491071\n",
      "606                       Rear Window (1954)          209  4.387560\n",
      "11                Usual Suspects, The (1995)          267  4.385768\n",
      "515                    Third Man, The (1949)           72  4.333333\n",
      "965  Some Folks Call It a Sling Blade (1993)           41  4.292683\n",
      "\n",
      "war\n",
      "                                           movie_title  num_reviews    rating\n",
      "321                            Schindler's List (1993)          298  4.466443\n",
      "486                                  Casablanca (1942)          243  4.456790\n",
      "49                                    Star Wars (1977)          583  4.358491\n",
      "477  Dr. Strangelove or: How I Learned to Stop Worr...          194  4.252577\n",
      "513                          Lawrence of Arabia (1962)          173  4.231214\n",
      "\n",
      "western\n",
      "                                   movie_title  num_reviews    rating\n",
      "664                           High Noon (1952)           88  4.102273\n",
      "592                     Wild Bunch, The (1969)           43  4.023256\n",
      "438  Butch Cassidy and the Sundance Kid (1969)          216  3.949074\n",
      "512              Magnificent Seven, The (1954)          121  3.942149\n",
      "649        Once Upon a Time in the West (1969)           38  3.868421\n",
      "\n"
     ]
    }
   ],
   "source": [
    "# Highest rated per genre\n",
    "\n",
    "print(\"Top 5 per genre (w/ at least 10 reviews)\")\n",
    "for genre in genres:\n",
    "    print(genre)\n",
    "    mask = (ranking_df[\"num_reviews\"] >= 10) & (ranking_df[genre] == 1)\n",
    "    print(ranking_df[[\"movie_title\", \"num_reviews\", \"rating\"]].loc[mask].nlargest(5, columns=[\"rating\"]), \"\\n\", sep=\"\")"
   ]
  },
  {
   "cell_type": "code",
   "execution_count": 217,
   "metadata": {},
   "outputs": [
    {
     "name": "stdout",
     "output_type": "stream",
     "text": [
      "youngsters top 5 most rated\n",
      "                           num_reviews    rating\n",
      "movie_title                                     \n",
      "Titanic (1997)                      15  4.733333\n",
      "Return of the Jedi (1983)           18  4.555556\n",
      "Star Wars (1977)                    19  4.526316\n",
      "L.A. Confidential (1997)            11  4.363636\n",
      "Rock, The (1996)                    13  4.307692\n",
      "\n",
      "young_adults top 5 most rated\n",
      "                                                    num_reviews    rating\n",
      "movie_title                                                              \n",
      "Wallace & Gromit: The Best of Aardman Animation...           12  4.750000\n",
      "Shawshank Redemption, The (1994)                             71  4.633803\n",
      "Casablanca (1942)                                            35  4.600000\n",
      "Titanic (1997)                                               81  4.493827\n",
      "Dr. Strangelove or: How I Learned to Stop Worry...           33  4.484848\n",
      "\n",
      "adults top 5 most rated\n",
      "                                                    num_reviews    rating\n",
      "movie_title                                                              \n",
      "Wrong Trousers, The (1993)                                   80  4.512500\n",
      "Close Shave, A (1995)                                        86  4.511628\n",
      "Wallace & Gromit: The Best of Aardman Animation...           47  4.510638\n",
      "Schindler's List (1993)                                     185  4.502703\n",
      "Casablanca (1942)                                           169  4.443787\n",
      "\n",
      "grannies top 5 most rated\n",
      "                            num_reviews    rating\n",
      "movie_title                                      \n",
      "Schindler's List (1993)              36  4.527778\n",
      "Kolya (1996)                         23  4.478261\n",
      "Maltese Falcon, The (1941)           20  4.450000\n",
      "Rear Window (1954)                   32  4.437500\n",
      "Boot, Das (1981)                     37  4.405405\n",
      "\n"
     ]
    }
   ],
   "source": [
    "# top-5 per age group\n",
    "\n",
    "# under 18\n",
    "youngsters = df[\"age\"] < 18\n",
    "\n",
    "# 18 to 25\n",
    "young_adults =  (25 > df[\"age\"]) & ( df[\"age\"] >= 18)\n",
    "\n",
    "# 25 to 50\n",
    "adults =  (50 > df[\"age\"]) & ( df[\"age\"] >= 25)\n",
    "\n",
    "# older than 49\n",
    "grannies =  df[\"age\"] >= 50\n",
    "\n",
    "age_groups = {\"youngsters\" : youngsters, \"young_adults\": young_adults, \"adults\":adults,  \"grannies\": grannies}\n",
    "\n",
    "for group in age_groups:\n",
    "    print(group, \"top 5 most rated\")\n",
    "    temp = df[[\"movie_title\", \"rating\", \"age\"]].loc[age_groups[group]].groupby(\"movie_title\")[\"rating\"]\n",
    "    count = temp.count().to_frame().rename(columns={\"rating\" : \"num_reviews\"})\n",
    "    rating = temp.mean().to_frame()\n",
    "\n",
    "    temp_merged = count.merge(rating, on=\"movie_title\")\n",
    "    \n",
    "    mask = temp_merged[\"num_reviews\"] > 10\n",
    "\n",
    "    print(temp_merged.loc[mask].nlargest(5, columns=[\"rating\"]))\n",
    "    print(\"\")"
   ]
  },
  {
   "cell_type": "code",
   "execution_count": 220,
   "metadata": {},
   "outputs": [
    {
     "name": "stdout",
     "output_type": "stream",
     "text": [
      "Dudes top 5 most rated\n",
      "                                                    num_reviews    rating\n",
      "movie_title                                                              \n",
      "Casablanca (1942)                                           188  4.473404\n",
      "Wrong Trousers, The (1993)                                   91  4.472527\n",
      "Close Shave, A (1995)                                        93  4.462366\n",
      "Third Man, The (1949)                                        60  4.433333\n",
      "Wallace & Gromit: The Best of Aardman Animation...           52  4.423077\n",
      "\n",
      "Women top 5 most rated\n",
      "                                                    num_reviews    rating\n",
      "movie_title                                                              \n",
      "Schindler's List (1993)                                      79  4.632911\n",
      "Close Shave, A (1995)                                        19  4.631579\n",
      "Shawshank Redemption, The (1994)                             64  4.562500\n",
      "Wallace & Gromit: The Best of Aardman Animation...           15  4.533333\n",
      "Shall We Dance? (1996)                                       17  4.529412\n",
      "\n"
     ]
    }
   ],
   "source": [
    "# top 5 per gender\n",
    "\n",
    "female = df[\"gender\"] == \"F\"\n",
    "\n",
    "male = df[\"gender\"] == \"M\"\n",
    "\n",
    "groups = {\"Dudes\" : male, \"Women\": female}\n",
    "\n",
    "for group in groups:\n",
    "    print(group, \"top 5 most rated\")\n",
    "    temp = df[[\"movie_title\", \"rating\", \"gender\"]].loc[groups[group]].groupby(\"movie_title\")[\"rating\"]\n",
    "    count = temp.count().to_frame().rename(columns={\"rating\" : \"num_reviews\"})\n",
    "    rating = temp.mean().to_frame()\n",
    "\n",
    "    temp_merged = count.merge(rating, on=\"movie_title\")\n",
    "    \n",
    "    mask = temp_merged[\"num_reviews\"] > 10\n",
    "\n",
    "    print(temp_merged.loc[mask].nlargest(5, columns=[\"rating\"]))\n",
    "    print(\"\")"
   ]
  },
  {
   "cell_type": "code",
   "execution_count": 228,
   "metadata": {},
   "outputs": [
    {
     "name": "stdout",
     "output_type": "stream",
     "text": [
      "technician top 5 most rated\n",
      "                            num_reviews    rating\n",
      "movie_title                                      \n",
      "Princess Bride, The (1987)           12  4.666667\n",
      "Chasing Amy (1997)                   16  4.562500\n",
      "Star Wars (1977)                     22  4.454545\n",
      "Blade Runner (1982)                  12  4.416667\n",
      "Godfather, The (1972)                13  4.384615\n",
      "\n",
      "other top 5 most rated\n",
      "                                  num_reviews    rating\n",
      "movie_title                                            \n",
      "Schindler's List (1993)                    37  4.729730\n",
      "Lawrence of Arabia (1962)                  13  4.538462\n",
      "It's a Wonderful Life (1946)               25  4.480000\n",
      "Boot, Das (1981)                           23  4.434783\n",
      "Shawshank Redemption, The (1994)           30  4.433333\n",
      "\n",
      "writer top 5 most rated\n",
      "                                        num_reviews    rating\n",
      "movie_title                                                  \n",
      "Psycho (1960)                                    16  4.875000\n",
      "Blade Runner (1982)                              11  4.454545\n",
      "Godfather, The (1972)                            22  4.454545\n",
      "Terminator 2: Judgment Day (1991)                11  4.363636\n",
      "Monty Python and the Holy Grail (1974)           14  4.357143\n",
      "\n",
      "executive top 5 most rated\n",
      "                                  num_reviews    rating\n",
      "movie_title                                            \n",
      "Raiders of the Lost Ark (1981)             13  4.615385\n",
      "Silence of the Lambs, The (1991)           12  4.583333\n",
      "Godfather, The (1972)                      14  4.500000\n",
      "Fargo (1996)                               17  4.470588\n",
      "Forrest Gump (1994)                        11  4.454545\n",
      "\n",
      "administrator top 5 most rated\n",
      "                                  num_reviews    rating\n",
      "movie_title                                            \n",
      "Schindler's List (1993)                    19  4.631579\n",
      "Magnificent Seven, The (1954)              12  4.583333\n",
      "Shawshank Redemption, The (1994)           21  4.571429\n",
      "Casablanca (1942)                          23  4.565217\n",
      "Princess Bride, The (1987)                 23  4.565217\n",
      "\n",
      "student top 5 most rated\n",
      "                                                    num_reviews    rating\n",
      "movie_title                                                              \n",
      "Cinema Paradiso (1988)                                       15  4.933333\n",
      "Wallace & Gromit: The Best of Aardman Animation...           14  4.714286\n",
      "Casablanca (1942)                                            38  4.631579\n",
      "Raging Bull (1980)                                           16  4.625000\n",
      "City of Lost Children, The (1995)                            25  4.600000\n",
      "\n",
      "lawyer top 5 most rated\n",
      "Empty DataFrame\n",
      "Columns: [num_reviews, rating]\n",
      "Index: []\n",
      "\n",
      "educator top 5 most rated\n",
      "                                                    num_reviews    rating\n",
      "movie_title                                                              \n",
      "Hoop Dreams (1994)                                           13  4.692308\n",
      "Taxi Driver (1976)                                           17  4.647059\n",
      "Schindler's List (1993)                                      35  4.600000\n",
      "To Kill a Mockingbird (1962)                                 24  4.583333\n",
      "Dr. Strangelove or: How I Learned to Stop Worry...           21  4.571429\n",
      "\n",
      "scientist top 5 most rated\n",
      "                                  num_reviews    rating\n",
      "movie_title                                            \n",
      "Pulp Fiction (1994)                        13  4.461538\n",
      "Usual Suspects, The (1995)                 11  4.363636\n",
      "Godfather, The (1972)                      13  4.307692\n",
      "Silence of the Lambs, The (1991)           13  4.307692\n",
      "Fargo (1996)                               18  4.222222\n",
      "\n",
      "entertainment top 5 most rated\n",
      "                          num_reviews    rating\n",
      "movie_title                                    \n",
      "L.A. Confidential (1997)           12  4.250000\n",
      "Chasing Amy (1997)                 13  3.923077\n",
      "Fargo (1996)                       11  3.909091\n",
      "Contact (1997)                     13  3.846154\n",
      "Toy Story (1995)                   11  3.454545\n",
      "\n",
      "programmer top 5 most rated\n",
      "                            num_reviews    rating\n",
      "movie_title                                      \n",
      "Wrong Trousers, The (1993)           17  4.764706\n",
      "Close Shave, A (1995)                13  4.692308\n",
      "Casablanca (1942)                    18  4.666667\n",
      "Titanic (1997)                       24  4.583333\n",
      "Star Wars (1977)                     50  4.540000\n",
      "\n",
      "librarian top 5 most rated\n",
      "                                  num_reviews    rating\n",
      "movie_title                                            \n",
      "Secrets & Lies (1996)                      19  4.684211\n",
      "Lone Star (1996)                           16  4.562500\n",
      "Schindler's List (1993)                    21  4.523810\n",
      "Citizen Kane (1941)                        12  4.500000\n",
      "Shawshank Redemption, The (1994)           13  4.461538\n",
      "\n",
      "homemaker top 5 most rated\n",
      "Empty DataFrame\n",
      "Columns: [num_reviews, rating]\n",
      "Index: []\n",
      "\n",
      "artist top 5 most rated\n",
      "                                num_reviews    rating\n",
      "movie_title                                          \n",
      "Star Wars (1977)                         18  4.666667\n",
      "Godfather, The (1972)                    12  4.500000\n",
      "Raiders of the Lost Ark (1981)           13  4.461538\n",
      "Toy Story (1995)                         12  4.083333\n",
      "Fargo (1996)                             14  3.928571\n",
      "\n",
      "engineer top 5 most rated\n",
      "                                  num_reviews    rating\n",
      "movie_title                                            \n",
      "Wrong Trousers, The (1993)                 14  4.642857\n",
      "Casablanca (1942)                          25  4.600000\n",
      "Raiders of the Lost Ark (1981)             44  4.590909\n",
      "Shawshank Redemption, The (1994)           22  4.545455\n",
      "North by Northwest (1959)                  15  4.533333\n",
      "\n",
      "marketing top 5 most rated\n",
      "                             num_reviews    rating\n",
      "movie_title                                       \n",
      "Godfather, The (1972)                 12  4.416667\n",
      "L.A. Confidential (1997)              11  4.090909\n",
      "Star Wars (1977)                      14  4.071429\n",
      "Full Monty, The (1997)                12  3.833333\n",
      "English Patient, The (1996)           17  3.764706\n",
      "\n",
      "none top 5 most rated\n",
      "Empty DataFrame\n",
      "Columns: [num_reviews, rating]\n",
      "Index: []\n",
      "\n",
      "healthcare top 5 most rated\n",
      "                           num_reviews    rating\n",
      "movie_title                                     \n",
      "Air Force One (1997)                11  3.909091\n",
      "Star Wars (1977)                    11  3.909091\n",
      "Return of the Jedi (1983)           11  3.636364\n",
      "\n",
      "retired top 5 most rated\n",
      "Empty DataFrame\n",
      "Columns: [num_reviews, rating]\n",
      "Index: []\n",
      "\n",
      "salesman top 5 most rated\n",
      "Empty DataFrame\n",
      "Columns: [num_reviews, rating]\n",
      "Index: []\n",
      "\n",
      "doctor top 5 most rated\n",
      "Empty DataFrame\n",
      "Columns: [num_reviews, rating]\n",
      "Index: []\n",
      "\n"
     ]
    }
   ],
   "source": [
    "# top 5 per occupation\n",
    "\n",
    "occuptations_list = user_df[\"occupation\"].unique()\n",
    "\n",
    "groups = {x : df[\"occupation\"] == x for x in occuptations_list}\n",
    "\n",
    "for group in groups:\n",
    "    print(group, \"top 5 most rated\")\n",
    "    temp = df[[\"movie_title\", \"rating\", \"occupation\"]].loc[groups[group]].groupby(\"movie_title\")[\"rating\"]\n",
    "    count = temp.count().to_frame().rename(columns={\"rating\" : \"num_reviews\"})\n",
    "    rating = temp.mean().to_frame()\n",
    "\n",
    "    temp_merged = count.merge(rating, on=\"movie_title\")\n",
    "    \n",
    "    mask = temp_merged[\"num_reviews\"] > 10\n",
    "\n",
    "    print(temp_merged.loc[mask].nlargest(5, columns=[\"rating\"]))\n",
    "    print(\"\")"
   ]
  }
 ],
 "metadata": {
  "kernelspec": {
   "display_name": "data-processing",
   "language": "python",
   "name": "python3"
  },
  "language_info": {
   "codemirror_mode": {
    "name": "ipython",
    "version": 3
   },
   "file_extension": ".py",
   "mimetype": "text/x-python",
   "name": "python",
   "nbconvert_exporter": "python",
   "pygments_lexer": "ipython3",
   "version": "3.11.5"
  }
 },
 "nbformat": 4,
 "nbformat_minor": 2
}
